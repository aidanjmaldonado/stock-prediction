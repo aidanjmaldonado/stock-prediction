{
  "cells": [
    {
      "cell_type": "markdown",
      "metadata": {
        "id": "view-in-github"
      },
      "source": [
        "<a href=\"https://colab.research.google.com/github/aidanjmaldonado/penny-stock-lstm/blob/main/penny_stock.ipynb\" target=\"_parent\"><img src=\"https://colab.research.google.com/assets/colab-badge.svg\" alt=\"Open In Colab\"/></a>"
      ]
    },
    {
      "cell_type": "code",
      "execution_count": 3,
      "metadata": {
        "id": "AB9VHvt_xNXa"
      },
      "outputs": [],
      "source": [
        "import numpy as np\n",
        "import pandas as pd\n",
        "from sklearn.preprocessing import MinMaxScaler\n",
        "from keras.models import Sequential\n",
        "from keras.layers import LSTM, Dense, Dropout\n",
        "from keras.callbacks import EarlyStopping\n",
        "import sqlite3\n",
        "import requests\n",
        "import sys\n",
        "import pytz\n",
        "\n",
        "from library.DataSetProcessor import DataSetProcessor\n",
        "import matplotlib.pyplot as plt\n",
        "\n",
        "import pickle\n",
        "\n",
        "\n",
        "\n",
        "\n",
        "\n"
      ]
    },
    {
      "cell_type": "markdown",
      "metadata": {
        "id": "SJBjdbHzoWvZ"
      },
      "source": [
        "# Create database"
      ]
    },
    {
      "cell_type": "code",
      "execution_count": 4,
      "metadata": {
        "colab": {
          "base_uri": "https://localhost:8080/"
        },
        "id": "9DGRIE9XnRw8",
        "outputId": "c53b5aec-8331-490b-b5b8-37e403b087c0"
      },
      "outputs": [
        {
          "name": "stdout",
          "output_type": "stream",
          "text": [
            "Request to download database succeeded\n"
          ]
        }
      ],
      "source": [
        "# Download database from github repository\n",
        "historical_url = \"https://raw.githubusercontent.com/CSE-115-UCSC/penny-stock-lstm/main/historicaldata.db\"\n",
        "scrape_request = requests.get(historical_url)\n",
        "\n",
        "try:\n",
        "  # Contingent on request status\n",
        "  scrape_request = requests.get(historical_url)\n",
        "  scrape_request.raise_for_status()\n",
        "\n",
        "  # Create local database from pull, name 'historicaldata.db'\n",
        "  with open(\"historical.db\", \"wb\") as db_file:\n",
        "    db_file.write(scrape_request.content)\n",
        "\n",
        "  print(\"Request to download database succeeded\")\n",
        "\n",
        "\n",
        "except:\n",
        "  # Report failed request status\n",
        "  sys.stderr.write(\"Request to download database failed\")"
      ]
    },
    {
      "cell_type": "code",
      "execution_count": 5,
      "metadata": {},
      "outputs": [],
      "source": [
        "dataSetProcessor = DataSetProcessor()"
      ]
    },
    {
      "cell_type": "code",
      "execution_count": 6,
      "metadata": {
        "colab": {
          "base_uri": "https://localhost:8080/"
        },
        "id": "KApKP8mve16y",
        "outputId": "eac13848-bd1a-4869-8752-8d266eaab896"
      },
      "outputs": [
        {
          "name": "stdout",
          "output_type": "stream",
          "text": [
            "SQlite connected with historical.db\n"
          ]
        }
      ],
      "source": [
        "# Connect to SQlite database\n",
        "try:\n",
        "    db = 'historical.db'\n",
        "    sqliteConnection = sqlite3.connect(db)\n",
        "    cursor = sqliteConnection.cursor()\n",
        "    print(f'SQlite connected with {db}')\n",
        "\n",
        "except:\n",
        "    sys.stderr.write(\"Failed to connect to database\")"
      ]
    },
    {
      "cell_type": "code",
      "execution_count": 26,
      "metadata": {
        "colab": {
          "base_uri": "https://localhost:8080/"
        },
        "id": "or4POn4Ye_Lw",
        "outputId": "a222f695-d83c-4f79-bc32-348cb0749353"
      },
      "outputs": [
        {
          "name": "stderr",
          "output_type": "stream",
          "text": [
            "Failed to select all historical"
          ]
        }
      ],
      "source": [
        "# Query {ticker(s)} from Database\n",
        "try:\n",
        "    query = f\"SELECT * all_historical;\"\n",
        "    cursor.execute(query)\n",
        "    if cursor.fetchone() is None:\n",
        "        raise Exception(\"No results\")\n",
        "\n",
        "    print(f\"Success querying all historical\")\n",
        "    # Turn SQlite Database into Pandas Dataframe\n",
        "    data = pd.read_sql_query(query, sqliteConnection)\n",
        "\n",
        "except:\n",
        "    sys.stderr.write(f\"Failed to select all historical\")"
      ]
    },
    {
      "cell_type": "code",
      "execution_count": 27,
      "metadata": {
        "id": "_MxXjzzSQ1b_"
      },
      "outputs": [],
      "source": [
        "# # Using the column 'time' (millisecond) add a new column 'dates' with datetime\n",
        "dates = pd.to_datetime(data['time'], unit='ms')\n",
        "tickers = data['ticker']\n",
        "dates = dates.dt.tz_localize('UTC').dt.tz_convert('US/Pacific')\n",
        "dates = dates.dt.tz_localize(None)\n",
        "data = dataSetProcessor.addDateAndMinutes(data)"
      ]
    },
    {
      "cell_type": "code",
      "execution_count": 28,
      "metadata": {
        "colab": {
          "base_uri": "https://localhost:8080/",
          "height": 206
        },
        "id": "Zf9bAzx-KUzW",
        "outputId": "4260f77b-182c-4520-dc71-912c7df3bd23"
      },
      "outputs": [
        {
          "data": {
            "text/html": [
              "<div>\n",
              "<style scoped>\n",
              "    .dataframe tbody tr th:only-of-type {\n",
              "        vertical-align: middle;\n",
              "    }\n",
              "\n",
              "    .dataframe tbody tr th {\n",
              "        vertical-align: top;\n",
              "    }\n",
              "\n",
              "    .dataframe thead th {\n",
              "        text-align: right;\n",
              "    }\n",
              "</style>\n",
              "<table border=\"1\" class=\"dataframe\">\n",
              "  <thead>\n",
              "    <tr style=\"text-align: right;\">\n",
              "      <th></th>\n",
              "      <th>id</th>\n",
              "      <th>ticker</th>\n",
              "      <th>volume</th>\n",
              "      <th>volume_weighted_average</th>\n",
              "      <th>open</th>\n",
              "      <th>close</th>\n",
              "      <th>high</th>\n",
              "      <th>low</th>\n",
              "      <th>time</th>\n",
              "      <th>number_of_trades</th>\n",
              "      <th>date</th>\n",
              "      <th>timeTime</th>\n",
              "      <th>timeMinute</th>\n",
              "    </tr>\n",
              "  </thead>\n",
              "  <tbody>\n",
              "    <tr>\n",
              "      <th>0</th>\n",
              "      <td>26652</td>\n",
              "      <td>SOUN</td>\n",
              "      <td>2945</td>\n",
              "      <td>3.1882</td>\n",
              "      <td>3.170</td>\n",
              "      <td>3.195</td>\n",
              "      <td>3.210</td>\n",
              "      <td>3.170</td>\n",
              "      <td>1657643400000</td>\n",
              "      <td>41</td>\n",
              "      <td>2022-07-12</td>\n",
              "      <td>09:30:00</td>\n",
              "      <td>930</td>\n",
              "    </tr>\n",
              "    <tr>\n",
              "      <th>1</th>\n",
              "      <td>26653</td>\n",
              "      <td>SOUN</td>\n",
              "      <td>204</td>\n",
              "      <td>3.2048</td>\n",
              "      <td>3.200</td>\n",
              "      <td>3.210</td>\n",
              "      <td>3.210</td>\n",
              "      <td>3.200</td>\n",
              "      <td>1657643700000</td>\n",
              "      <td>4</td>\n",
              "      <td>2022-07-12</td>\n",
              "      <td>09:35:00</td>\n",
              "      <td>935</td>\n",
              "    </tr>\n",
              "    <tr>\n",
              "      <th>2</th>\n",
              "      <td>26654</td>\n",
              "      <td>SOUN</td>\n",
              "      <td>101</td>\n",
              "      <td>3.1949</td>\n",
              "      <td>3.195</td>\n",
              "      <td>3.195</td>\n",
              "      <td>3.195</td>\n",
              "      <td>3.195</td>\n",
              "      <td>1657644000000</td>\n",
              "      <td>2</td>\n",
              "      <td>2022-07-12</td>\n",
              "      <td>09:40:00</td>\n",
              "      <td>940</td>\n",
              "    </tr>\n",
              "    <tr>\n",
              "      <th>3</th>\n",
              "      <td>26655</td>\n",
              "      <td>SOUN</td>\n",
              "      <td>15019</td>\n",
              "      <td>3.1864</td>\n",
              "      <td>3.210</td>\n",
              "      <td>3.240</td>\n",
              "      <td>3.240</td>\n",
              "      <td>3.170</td>\n",
              "      <td>1657644300000</td>\n",
              "      <td>86</td>\n",
              "      <td>2022-07-12</td>\n",
              "      <td>09:45:00</td>\n",
              "      <td>945</td>\n",
              "    </tr>\n",
              "    <tr>\n",
              "      <th>4</th>\n",
              "      <td>26656</td>\n",
              "      <td>SOUN</td>\n",
              "      <td>28096</td>\n",
              "      <td>3.2866</td>\n",
              "      <td>3.240</td>\n",
              "      <td>3.290</td>\n",
              "      <td>3.350</td>\n",
              "      <td>3.230</td>\n",
              "      <td>1657644600000</td>\n",
              "      <td>171</td>\n",
              "      <td>2022-07-12</td>\n",
              "      <td>09:50:00</td>\n",
              "      <td>950</td>\n",
              "    </tr>\n",
              "  </tbody>\n",
              "</table>\n",
              "</div>"
            ],
            "text/plain": [
              "      id ticker  volume  volume_weighted_average   open  close   high    low  \\\n",
              "0  26652   SOUN    2945                   3.1882  3.170  3.195  3.210  3.170   \n",
              "1  26653   SOUN     204                   3.2048  3.200  3.210  3.210  3.200   \n",
              "2  26654   SOUN     101                   3.1949  3.195  3.195  3.195  3.195   \n",
              "3  26655   SOUN   15019                   3.1864  3.210  3.240  3.240  3.170   \n",
              "4  26656   SOUN   28096                   3.2866  3.240  3.290  3.350  3.230   \n",
              "\n",
              "            time  number_of_trades        date  timeTime  timeMinute  \n",
              "0  1657643400000                41  2022-07-12  09:30:00         930  \n",
              "1  1657643700000                 4  2022-07-12  09:35:00         935  \n",
              "2  1657644000000                 2  2022-07-12  09:40:00         940  \n",
              "3  1657644300000                86  2022-07-12  09:45:00         945  \n",
              "4  1657644600000               171  2022-07-12  09:50:00         950  "
            ]
          },
          "execution_count": 28,
          "metadata": {},
          "output_type": "execute_result"
        }
      ],
      "source": [
        "data.head()"
      ]
    },
    {
      "cell_type": "code",
      "execution_count": 29,
      "metadata": {
        "id": "Wd80WVNOLMOq"
      },
      "outputs": [],
      "source": [
        "# # Scale *For every ticker separately to (0, 1)\n",
        "# data['closeNorm'] = data['close'] /  data['close'].max()"
      ]
    },
    {
      "cell_type": "code",
      "execution_count": 30,
      "metadata": {
        "colab": {
          "base_uri": "https://localhost:8080/",
          "height": 1000
        },
        "id": "kJnyy9X9KKnA",
        "outputId": "16735658-8318-474e-b2e8-683d7c166aef"
      },
      "outputs": [],
      "source": [
        "# # Begin plotting\n",
        "# import matplotlib.pyplot as plt\n",
        "# plt.figure()\n",
        "\n",
        "# # 10 different tickers\n",
        "# for ticker in tickers.unique():\n",
        "#     plt.plot(dates[tickers == ticker], data[data['ticker'] == ticker]['closeNorm'], label=ticker)\n",
        "#     plt.label = ticker\n",
        "#     plt.legend()\n",
        "#     plt.show()"
      ]
    },
    {
      "cell_type": "markdown",
      "metadata": {},
      "source": [
        "# Dataset Normalization"
      ]
    },
    {
      "cell_type": "code",
      "execution_count": 31,
      "metadata": {},
      "outputs": [],
      "source": [
        "# achrData = data[data['ticker'] == 'ACHR']\n",
        "# len(achrData)\n",
        "# plt.plot(achrData['close'] / achrData['close'].max())"
      ]
    },
    {
      "cell_type": "code",
      "execution_count": 32,
      "metadata": {},
      "outputs": [],
      "source": [
        "normalized_data = pd.DataFrame(columns=['close', 'time', 'volume'])"
      ]
    },
    {
      "cell_type": "code",
      "execution_count": 33,
      "metadata": {},
      "outputs": [],
      "source": [
        "dataByTicker = {}\n",
        "for ticker in data['ticker'].unique():\n",
        "    dataByTicker[ticker] = data[data['ticker'] == ticker].copy()\n",
        "    dataByTicker[ticker]['closeNorm'] = dataByTicker[ticker]['close'] / dataByTicker[ticker]['close'].max()\n",
        "    dataByTicker[ticker]['volumeNorm'] = dataByTicker[ticker]['volume'] / dataByTicker[ticker]['volume'].max()"
      ]
    },
    {
      "cell_type": "code",
      "execution_count": 34,
      "metadata": {},
      "outputs": [
        {
          "name": "stderr",
          "output_type": "stream",
          "text": [
            "/var/folders/s4/t5945xms4x52fkpsd0m4v9340000gn/T/ipykernel_64801/273319749.py:11: FutureWarning: The behavior of DataFrame concatenation with empty or all-NA entries is deprecated. In a future version, this will no longer exclude empty or all-NA columns when determining the result dtypes. To retain the old behavior, exclude the relevant entries before the concat operation.\n",
            "  normalized_data = pd.concat([normalized_data, temp_df], ignore_index=True)\n"
          ]
        }
      ],
      "source": [
        "for key in dataByTicker:\n",
        "    # Create a temporary DataFrame to hold the current data\n",
        "    temp_df = pd.DataFrame({\n",
        "        'close': dataByTicker[key]['closeNorm'],\n",
        "        # 'ticker': dataByTicker[key]['ticker'],\n",
        "        'volume': dataByTicker[key]['volumeNorm'],\n",
        "        'time': dataByTicker[key]['time']\n",
        "    })\n",
        "    \n",
        "    # Concatenate the temporary DataFrame to the normalized_data DataFrame\n",
        "    normalized_data = pd.concat([normalized_data, temp_df], ignore_index=True)\n",
        "\n",
        "# Optionally, you can reset the index if needed\n",
        "normalized_data.reset_index(drop=True, inplace=True)"
      ]
    },
    {
      "cell_type": "code",
      "execution_count": 35,
      "metadata": {},
      "outputs": [
        {
          "data": {
            "text/html": [
              "<div>\n",
              "<style scoped>\n",
              "    .dataframe tbody tr th:only-of-type {\n",
              "        vertical-align: middle;\n",
              "    }\n",
              "\n",
              "    .dataframe tbody tr th {\n",
              "        vertical-align: top;\n",
              "    }\n",
              "\n",
              "    .dataframe thead th {\n",
              "        text-align: right;\n",
              "    }\n",
              "</style>\n",
              "<table border=\"1\" class=\"dataframe\">\n",
              "  <thead>\n",
              "    <tr style=\"text-align: right;\">\n",
              "      <th></th>\n",
              "      <th>close</th>\n",
              "      <th>time</th>\n",
              "      <th>volume</th>\n",
              "    </tr>\n",
              "  </thead>\n",
              "  <tbody>\n",
              "    <tr>\n",
              "      <th>0</th>\n",
              "      <td>0.305736</td>\n",
              "      <td>1657643400000</td>\n",
              "      <td>0.000437</td>\n",
              "    </tr>\n",
              "    <tr>\n",
              "      <th>1</th>\n",
              "      <td>0.307171</td>\n",
              "      <td>1657643700000</td>\n",
              "      <td>0.000030</td>\n",
              "    </tr>\n",
              "    <tr>\n",
              "      <th>2</th>\n",
              "      <td>0.305736</td>\n",
              "      <td>1657644000000</td>\n",
              "      <td>0.000015</td>\n",
              "    </tr>\n",
              "    <tr>\n",
              "      <th>3</th>\n",
              "      <td>0.310042</td>\n",
              "      <td>1657644300000</td>\n",
              "      <td>0.002231</td>\n",
              "    </tr>\n",
              "    <tr>\n",
              "      <th>4</th>\n",
              "      <td>0.314827</td>\n",
              "      <td>1657644600000</td>\n",
              "      <td>0.004173</td>\n",
              "    </tr>\n",
              "  </tbody>\n",
              "</table>\n",
              "</div>"
            ],
            "text/plain": [
              "      close           time    volume\n",
              "0  0.305736  1657643400000  0.000437\n",
              "1  0.307171  1657643700000  0.000030\n",
              "2  0.305736  1657644000000  0.000015\n",
              "3  0.310042  1657644300000  0.002231\n",
              "4  0.314827  1657644600000  0.004173"
            ]
          },
          "execution_count": 35,
          "metadata": {},
          "output_type": "execute_result"
        }
      ],
      "source": [
        "normalized_data.head()"
      ]
    },
    {
      "cell_type": "code",
      "execution_count": 36,
      "metadata": {},
      "outputs": [],
      "source": [
        "# for ticker in data['ticker'].unique():\n",
        "#     tickerD = dataByTicker[ticker]\n",
        "#     plt.plot(tickerD['closeNorm'])\n",
        "#     plt.plot(tickerD['volumeNorm'])\n",
        "#     plt.title(ticker)\n",
        "#     plt.show()"
      ]
    },
    {
      "cell_type": "markdown",
      "metadata": {
        "id": "1MRzML9poTXB"
      },
      "source": [
        "# Train on all historical stock data, sequenced"
      ]
    },
    {
      "cell_type": "code",
      "execution_count": 37,
      "metadata": {
        "colab": {
          "base_uri": "https://localhost:8080/"
        },
        "id": "ToUrsdh6ki-s",
        "outputId": "9d50990f-8603-4c63-eb66-d56d2a54b4b5"
      },
      "outputs": [
        {
          "name": "stderr",
          "output_type": "stream",
          "text": [
            "/Users/aidanmaldonado/Documents/stockpredictsite/.venv/lib/python3.9/site-packages/keras/src/layers/rnn/rnn.py:204: UserWarning: Do not pass an `input_shape`/`input_dim` argument to a layer. When using Sequential models, prefer using an `Input(shape)` object as the first layer in the model instead.\n",
            "  super().__init__(**kwargs)\n"
          ]
        },
        {
          "name": "stdout",
          "output_type": "stream",
          "text": [
            "Valid days: 97\n",
            "x_train shape: (77, 78, 3)\n",
            "y_train shape: (77, 78)\n",
            "x_test shape: (20, 78, 3)\n",
            "y_test shape: (20, 78)\n",
            "Epoch 1/100\n",
            "\u001b[1m3/3\u001b[0m \u001b[32m━━━━━━━━━━━━━━━━━━━━\u001b[0m\u001b[37m\u001b[0m \u001b[1m1s\u001b[0m 117ms/step - loss: 0.2437 - val_loss: 0.1762\n",
            "Epoch 2/100\n",
            "\u001b[1m3/3\u001b[0m \u001b[32m━━━━━━━━━━━━━━━━━━━━\u001b[0m\u001b[37m\u001b[0m \u001b[1m0s\u001b[0m 28ms/step - loss: 0.1948 - val_loss: 0.1515\n",
            "Epoch 3/100\n",
            "\u001b[1m3/3\u001b[0m \u001b[32m━━━━━━━━━━━━━━━━━━━━\u001b[0m\u001b[37m\u001b[0m \u001b[1m0s\u001b[0m 27ms/step - loss: 0.1594 - val_loss: 0.1321\n",
            "Epoch 4/100\n",
            "\u001b[1m3/3\u001b[0m \u001b[32m━━━━━━━━━━━━━━━━━━━━\u001b[0m\u001b[37m\u001b[0m \u001b[1m0s\u001b[0m 26ms/step - loss: 0.1538 - val_loss: 0.1156\n",
            "Epoch 5/100\n",
            "\u001b[1m3/3\u001b[0m \u001b[32m━━━━━━━━━━━━━━━━━━━━\u001b[0m\u001b[37m\u001b[0m \u001b[1m0s\u001b[0m 26ms/step - loss: 0.1414 - val_loss: 0.1012\n",
            "Epoch 6/100\n",
            "\u001b[1m3/3\u001b[0m \u001b[32m━━━━━━━━━━━━━━━━━━━━\u001b[0m\u001b[37m\u001b[0m \u001b[1m0s\u001b[0m 26ms/step - loss: 0.1279 - val_loss: 0.0878\n",
            "Epoch 7/100\n",
            "\u001b[1m3/3\u001b[0m \u001b[32m━━━━━━━━━━━━━━━━━━━━\u001b[0m\u001b[37m\u001b[0m \u001b[1m0s\u001b[0m 26ms/step - loss: 0.1266 - val_loss: 0.0753\n",
            "Epoch 8/100\n",
            "\u001b[1m3/3\u001b[0m \u001b[32m━━━━━━━━━━━━━━━━━━━━\u001b[0m\u001b[37m\u001b[0m \u001b[1m0s\u001b[0m 26ms/step - loss: 0.1240 - val_loss: 0.0617\n",
            "Epoch 9/100\n",
            "\u001b[1m3/3\u001b[0m \u001b[32m━━━━━━━━━━━━━━━━━━━━\u001b[0m\u001b[37m\u001b[0m \u001b[1m0s\u001b[0m 26ms/step - loss: 0.0981 - val_loss: 0.0493\n",
            "Epoch 10/100\n",
            "\u001b[1m3/3\u001b[0m \u001b[32m━━━━━━━━━━━━━━━━━━━━\u001b[0m\u001b[37m\u001b[0m \u001b[1m0s\u001b[0m 26ms/step - loss: 0.0874 - val_loss: 0.0385\n",
            "Epoch 11/100\n",
            "\u001b[1m3/3\u001b[0m \u001b[32m━━━━━━━━━━━━━━━━━━━━\u001b[0m\u001b[37m\u001b[0m \u001b[1m0s\u001b[0m 26ms/step - loss: 0.0755 - val_loss: 0.0301\n",
            "Epoch 12/100\n",
            "\u001b[1m3/3\u001b[0m \u001b[32m━━━━━━━━━━━━━━━━━━━━\u001b[0m\u001b[37m\u001b[0m \u001b[1m0s\u001b[0m 29ms/step - loss: 0.0753 - val_loss: 0.0235\n",
            "Epoch 13/100\n",
            "\u001b[1m3/3\u001b[0m \u001b[32m━━━━━━━━━━━━━━━━━━━━\u001b[0m\u001b[37m\u001b[0m \u001b[1m0s\u001b[0m 26ms/step - loss: 0.0733 - val_loss: 0.0186\n",
            "Epoch 14/100\n",
            "\u001b[1m3/3\u001b[0m \u001b[32m━━━━━━━━━━━━━━━━━━━━\u001b[0m\u001b[37m\u001b[0m \u001b[1m0s\u001b[0m 26ms/step - loss: 0.0690 - val_loss: 0.0165\n",
            "Epoch 15/100\n",
            "\u001b[1m3/3\u001b[0m \u001b[32m━━━━━━━━━━━━━━━━━━━━\u001b[0m\u001b[37m\u001b[0m \u001b[1m0s\u001b[0m 27ms/step - loss: 0.0590 - val_loss: 0.0163\n",
            "Epoch 16/100\n",
            "\u001b[1m3/3\u001b[0m \u001b[32m━━━━━━━━━━━━━━━━━━━━\u001b[0m\u001b[37m\u001b[0m \u001b[1m0s\u001b[0m 27ms/step - loss: 0.0586 - val_loss: 0.0157\n",
            "Epoch 17/100\n",
            "\u001b[1m3/3\u001b[0m \u001b[32m━━━━━━━━━━━━━━━━━━━━\u001b[0m\u001b[37m\u001b[0m \u001b[1m0s\u001b[0m 29ms/step - loss: 0.0654 - val_loss: 0.0151\n",
            "Epoch 18/100\n",
            "\u001b[1m3/3\u001b[0m \u001b[32m━━━━━━━━━━━━━━━━━━━━\u001b[0m\u001b[37m\u001b[0m \u001b[1m0s\u001b[0m 26ms/step - loss: 0.0549 - val_loss: 0.0145\n",
            "Epoch 19/100\n",
            "\u001b[1m3/3\u001b[0m \u001b[32m━━━━━━━━━━━━━━━━━━━━\u001b[0m\u001b[37m\u001b[0m \u001b[1m0s\u001b[0m 27ms/step - loss: 0.0616 - val_loss: 0.0113\n",
            "Epoch 20/100\n",
            "\u001b[1m3/3\u001b[0m \u001b[32m━━━━━━━━━━━━━━━━━━━━\u001b[0m\u001b[37m\u001b[0m \u001b[1m0s\u001b[0m 27ms/step - loss: 0.0494 - val_loss: 0.0075\n",
            "Epoch 21/100\n",
            "\u001b[1m3/3\u001b[0m \u001b[32m━━━━━━━━━━━━━━━━━━━━\u001b[0m\u001b[37m\u001b[0m \u001b[1m0s\u001b[0m 28ms/step - loss: 0.0557 - val_loss: 0.0056\n",
            "Epoch 22/100\n",
            "\u001b[1m3/3\u001b[0m \u001b[32m━━━━━━━━━━━━━━━━━━━━\u001b[0m\u001b[37m\u001b[0m \u001b[1m0s\u001b[0m 27ms/step - loss: 0.0485 - val_loss: 0.0051\n",
            "Epoch 23/100\n",
            "\u001b[1m3/3\u001b[0m \u001b[32m━━━━━━━━━━━━━━━━━━━━\u001b[0m\u001b[37m\u001b[0m \u001b[1m0s\u001b[0m 26ms/step - loss: 0.0492 - val_loss: 0.0051\n",
            "Epoch 24/100\n",
            "\u001b[1m3/3\u001b[0m \u001b[32m━━━━━━━━━━━━━━━━━━━━\u001b[0m\u001b[37m\u001b[0m \u001b[1m0s\u001b[0m 32ms/step - loss: 0.0496 - val_loss: 0.0052\n",
            "Epoch 25/100\n",
            "\u001b[1m3/3\u001b[0m \u001b[32m━━━━━━━━━━━━━━━━━━━━\u001b[0m\u001b[37m\u001b[0m \u001b[1m0s\u001b[0m 26ms/step - loss: 0.0447 - val_loss: 0.0056\n",
            "Epoch 26/100\n",
            "\u001b[1m3/3\u001b[0m \u001b[32m━━━━━━━━━━━━━━━━━━━━\u001b[0m\u001b[37m\u001b[0m \u001b[1m0s\u001b[0m 26ms/step - loss: 0.0488 - val_loss: 0.0068\n",
            "Epoch 27/100\n",
            "\u001b[1m3/3\u001b[0m \u001b[32m━━━━━━━━━━━━━━━━━━━━\u001b[0m\u001b[37m\u001b[0m \u001b[1m0s\u001b[0m 27ms/step - loss: 0.0395 - val_loss: 0.0072\n",
            "Epoch 28/100\n",
            "\u001b[1m3/3\u001b[0m \u001b[32m━━━━━━━━━━━━━━━━━━━━\u001b[0m\u001b[37m\u001b[0m \u001b[1m0s\u001b[0m 26ms/step - loss: 0.0502 - val_loss: 0.0075\n",
            "Epoch 29/100\n",
            "\u001b[1m3/3\u001b[0m \u001b[32m━━━━━━━━━━━━━━━━━━━━\u001b[0m\u001b[37m\u001b[0m \u001b[1m0s\u001b[0m 26ms/step - loss: 0.0500 - val_loss: 0.0082\n",
            "Epoch 30/100\n",
            "\u001b[1m3/3\u001b[0m \u001b[32m━━━━━━━━━━━━━━━━━━━━\u001b[0m\u001b[37m\u001b[0m \u001b[1m0s\u001b[0m 26ms/step - loss: 0.0424 - val_loss: 0.0066\n",
            "Epoch 31/100\n",
            "\u001b[1m3/3\u001b[0m \u001b[32m━━━━━━━━━━━━━━━━━━━━\u001b[0m\u001b[37m\u001b[0m \u001b[1m0s\u001b[0m 30ms/step - loss: 0.0495 - val_loss: 0.0055\n",
            "Epoch 32/100\n",
            "\u001b[1m3/3\u001b[0m \u001b[32m━━━━━━━━━━━━━━━━━━━━\u001b[0m\u001b[37m\u001b[0m \u001b[1m0s\u001b[0m 31ms/step - loss: 0.0502 - val_loss: 0.0059\n",
            "Epoch 33/100\n",
            "\u001b[1m3/3\u001b[0m \u001b[32m━━━━━━━━━━━━━━━━━━━━\u001b[0m\u001b[37m\u001b[0m \u001b[1m0s\u001b[0m 29ms/step - loss: 0.0477 - val_loss: 0.0070\n"
          ]
        },
        {
          "data": {
            "text/plain": [
              "<keras.src.callbacks.history.History at 0x32151c370>"
            ]
          },
          "execution_count": 37,
          "metadata": {},
          "output_type": "execute_result"
        }
      ],
      "source": [
        "# Select features to use\n",
        "# features = data[['volume', 'volume_weighted_average', 'open', 'close', 'high', 'low']].values\n",
        "\n",
        "# Normalize features\n",
        "# scaler = MinMaxScaler(feature_range=(0, 1))\n",
        "# scaled_features = scaler.fit_transform(features)\n",
        "\n",
        "def create_sequences(data, sequence_length, prediction_length):\n",
        "    xs, ys = [], []\n",
        "    index = 0\n",
        "    count = 0\n",
        "    while index < len(data) - sequence_length - prediction_length + 1:\n",
        "        # Check if sequence is within a single day\n",
        "        if dates[index].date() == dates[index + sequence_length].date() and tickers[index] == tickers[index + sequence_length]:\n",
        "            # If day == 2024-05-31, print\n",
        "            # if dates[index] == \"2024-05-31\":\n",
        "            # print(\"We got a sequence from\", dates[index], \"to\", dates[index + sequence_length], \"sequence-length is\", (index + sequence_length) -index, tickers[index], tickers[index + sequence_length])\n",
        "            xs.append(data.iloc[index:index + sequence_length])  # Use past data for features\n",
        "            ys.append(data.iloc[index + sequence_length:index + sequence_length + prediction_length, 0])  # Only predict 'close' prices\n",
        "            index += sequence_length\n",
        "            count += 1\n",
        "        else:  # Move index to the start of the next day\n",
        "            newindex = index\n",
        "            while dates[newindex].date() == dates[newindex + 1].date():\n",
        "                newindex += 1\n",
        "            newindex += 1\n",
        "            index = newindex\n",
        "    print(\"Valid days:\", count)\n",
        "    return np.array(xs), np.array(ys)\n",
        "\n",
        "# One day sequence lenght\n",
        "sequence_length = 78\n",
        "prediction_length = 78\n",
        "x, y = create_sequences(normalized_data, sequence_length, prediction_length)\n",
        "\n",
        "train_size = int(len(x) * 0.8)\n",
        "x_train, x_test = x[:train_size], x[train_size:]\n",
        "y_train, y_test = y[:train_size], y[train_size:]\n",
        "\n",
        "# Split data into train and test sets\n",
        "train_size = int(len(x) * 0.8)\n",
        "x_train, x_test = x[:train_size], x[train_size:]\n",
        "y_train, y_test = y[:train_size], y[train_size:]\n",
        "\n",
        "print(\"x_train shape:\", x_train.shape)\n",
        "print(\"y_train shape:\", y_train.shape)\n",
        "print(\"x_test shape:\", x_test.shape)\n",
        "print(\"y_test shape:\", y_test.shape)\n",
        "\n",
        "# Type adjustment\n",
        "x_train = x_train.astype(np.float32)\n",
        "y_train = y_train.astype(np.float32)\n",
        "\n",
        "# Build LSTM model\n",
        "model = Sequential()\n",
        "model.add(LSTM(50, return_sequences=True, input_shape=(sequence_length, x_train.shape[2])))\n",
        "model.add(LSTM(50))\n",
        "model.add(Dense(50, activation='relu'))\n",
        "model.add(Dropout(0.2))\n",
        "model.add(Dense(prediction_length))\n",
        "\n",
        "model.compile(optimizer='adam', loss='mse')\n",
        "\n",
        "# Train the model\n",
        "early_stopping = EarlyStopping(monitor='val_loss', patience=10, restore_best_weights=True)\n",
        "model.fit(x_train, y_train, epochs=100, batch_size=32, validation_split=0.1, callbacks=[early_stopping])\n",
        "\n",
        "# Evaluate the model\n",
        "# model.evaluate(x_test, y_test)"
      ]
    },
    {
      "cell_type": "code",
      "execution_count": 38,
      "metadata": {},
      "outputs": [
        {
          "name": "stderr",
          "output_type": "stream",
          "text": [
            "WARNING:absl:You are saving your model as an HDF5 file via `model.save()` or `keras.saving.save_model(model)`. This file format is considered legacy. We recommend using instead the native Keras format, e.g. `model.save('my_model.keras')` or `keras.saving.save_model(model, 'my_model.keras')`. \n"
          ]
        }
      ],
      "source": [
        "model.save('model.h5')"
      ]
    },
    {
      "cell_type": "markdown",
      "metadata": {
        "id": "_YtkL05SoPGl"
      },
      "source": [
        "# Prediction on unseen 'Real-Time' stock\n"
      ]
    },
    {
      "cell_type": "code",
      "execution_count": 39,
      "metadata": {
        "colab": {
          "base_uri": "https://localhost:8080/"
        },
        "id": "gaButDJTSHG5",
        "outputId": "c0b727b9-71d4-446b-a5b4-5e7b2709b4c4"
      },
      "outputs": [
        {
          "name": "stdout",
          "output_type": "stream",
          "text": [
            "Success querying EVGN_Predict\n"
          ]
        }
      ],
      "source": [
        "# Create Prediction Stock dataset\n",
        "\n",
        "try:\n",
        "  query = f\"SELECT * FROM all_historical WHERE ticker = 'SOUN';\" # *NOTE* Cannot run predictions on EVGN_Predict rn because it has 0 valid days, using GSAT\n",
        "  cursor.execute(query)\n",
        "  if cursor.fetchone() is None:\n",
        "    raise Exception(\"No results\")\n",
        "  print(f\"Success querying EVGN_Predict\")\n",
        "except:\n",
        "  sys.stderr.write(f\"Failed to select EVGN_Predict\")\n",
        "\n",
        "# Turn SQlite Database into Pandas Dataframe\n",
        "predict_data_whole = pd.read_sql_query(query, sqliteConnection)\n",
        "\n",
        "# Split into known vs unknown, where unknown is the last 78 entries\n",
        "split_index_whole = len(predict_data_whole) - 78\n",
        "known_data_whole = predict_data_whole.iloc[:-78]\n",
        "unknown_data_whole = predict_data_whole.iloc[-78:]\n",
        "\n",
        "# # Features\n",
        "# known_features = known_data_whole[['volume', 'volume_weighted_average', 'open', 'close', 'high', 'low']].values\n",
        "known_features = known_data_whole[['close', 'volume', 'time']].values\n",
        "known_closes = np.array([known_features[:, 0]]).T\n",
        "known_volume = np.array([known_features[:, 1]]).T\n",
        "\n",
        "\n",
        " # Normalize features\n",
        "predict_close_scaler = MinMaxScaler(feature_range=(0, 1))\n",
        "predict_volume_scaler = MinMaxScaler(feature_range=(0, 1))\n",
        "scaled_close = predict_close_scaler.fit_transform(known_closes)\n",
        "scaled_volume = predict_volume_scaler.fit_transform(known_volume)\n",
        "\n",
        "scaled_known_features = known_features\n",
        "known_features[:, 0] = scaled_close[:, 0]\n",
        "known_features[:, 1] = scaled_volume[:, 0]\n",
        "\n"
      ]
    },
    {
      "cell_type": "code",
      "execution_count": 40,
      "metadata": {
        "id": "6ymq09w-TRXL"
      },
      "outputs": [],
      "source": [
        "# Create dates column from miliseconds\n",
        "dates = pd.to_datetime(known_data_whole['time'], unit='ms')\n",
        "tickers = known_data_whole['ticker']\n",
        "dates = dates.dt.tz_localize('UTC').dt.tz_convert('US/Pacific')\n",
        "dates = dates.dt.tz_localize(None)"
      ]
    },
    {
      "cell_type": "code",
      "execution_count": 41,
      "metadata": {
        "id": "rUHlZ84KSYxX"
      },
      "outputs": [
        {
          "data": {
            "text/plain": [
              "(1, 78, 3)"
            ]
          },
          "execution_count": 41,
          "metadata": {},
          "output_type": "execute_result"
        }
      ],
      "source": [
        "# Create Prediction Sequences\n",
        "sequence_length = 78\n",
        "prediction_length = 78\n",
        "\n",
        "def create_predict_sequences(data, sequence_length):\n",
        "    index = len(data) - sequence_length\n",
        "    xs = []\n",
        "    xs.append(data[index:])  # Use the last sequence_length data points\n",
        "    return np.array(xs)\n",
        "x_predict = create_predict_sequences(scaled_known_features, sequence_length)\n",
        "x_predict.shape\n"
      ]
    },
    {
      "cell_type": "code",
      "execution_count": 42,
      "metadata": {
        "colab": {
          "base_uri": "https://localhost:8080/",
          "height": 358
        },
        "id": "-WQfWiYxTygC",
        "outputId": "596113c5-7d00-4d40-d4ee-913ebf3d59ad"
      },
      "outputs": [
        {
          "name": "stdout",
          "output_type": "stream",
          "text": [
            "\u001b[1m1/1\u001b[0m \u001b[32m━━━━━━━━━━━━━━━━━━━━\u001b[0m\u001b[37m\u001b[0m \u001b[1m0s\u001b[0m 129ms/step\n"
          ]
        }
      ],
      "source": [
        "# Predict with model\n",
        "\n",
        "predicted_stock_sequence = model.predict(x_predict)\n",
        "\n",
        "# Unscale\n",
        "final_predictions = predict_close_scaler.inverse_transform(predicted_stock_sequence)\n",
        "\n",
        "# Evaluate the model\n",
        "# model.evaluate(x_predict, final_predictions)"
      ]
    },
    {
      "cell_type": "code",
      "execution_count": 43,
      "metadata": {
        "id": "ZI07GI7IS3_I"
      },
      "outputs": [
        {
          "data": {
            "image/png": "[encoded data removed]",
            "text/plain": [
              "<Figure size 1400x700 with 1 Axes>"
            ]
          },
          "metadata": {},
          "output_type": "display_data"
        }
      ],
      "source": [
        "# Plot results\n",
        "import matplotlib.pyplot as plt\n",
        "\n",
        "# Create the combined index for plotting\n",
        "combined_index = np.arange(len(predict_data_whole))\n",
        "\n",
        "# Create\n",
        "plt.figure(figsize=(14, 7))\n",
        "\n",
        "# Plot\n",
        "plt.plot(combined_index, predict_data_whole['close'], label='Example \"Prediction\" Data', color='black', linewidth=3.0)\n",
        "plt.plot(combined_index[:split_index_whole], known_data_whole['close'], label='\"Known\" Data', color='cyan', linewidth=2.0, linestyle=\"--\")\n",
        "plt.plot(combined_index[split_index_whole:], unknown_data_whole['close'], label='\"Unknown\" Data', color='orange', linewidth=2.0, linestyle=\"--\")\n",
        "\n",
        "plt.plot(combined_index[split_index_whole:], final_predictions[0], label='Model Prediction', color='purple', linewidth=2.0, linestyle=\"-\")\n",
        "\n",
        "\n",
        "\n",
        "# Format\n",
        "plt.title('Comparison of Historical, Actual, and Predicted Data')\n",
        "plt.xlabel('Time Steps')\n",
        "plt.ylabel('Stock Price')\n",
        "plt.legend()\n",
        "\n",
        "# Adjust y-axis limits based on the data range\n",
        "# plt.ylim(predict_data_whole.iloc[-200:]['close'].min() - 0.2, predict_data_whole.iloc[-200:]['close'].max() + 0.2)\n",
        "plt.xlim(len(predict_data_whole) - 200, len(predict_data_whole))  # Crop view to just the very end\n",
        "\n",
        "# Set y-tick locations with a step of 0.05\n",
        "# yticks = np.arange(min(predict_data_whole['close']) // 0.05 * 0.05, (max(predict_data_whole['close']) // 0.05 + 1) * 0.05, 0.05)\n",
        "# plt.yticks(yticks)\n",
        "\n",
        "plt.show()\n"
      ]
    }
  ],
  "metadata": {
    "colab": {
      "provenance": []
    },
    "kernelspec": {
      "display_name": "Python 3",
      "name": "python3"
    },
    "language_info": {
      "codemirror_mode": {
        "name": "ipython",
        "version": 3
      },
      "file_extension": ".py",
      "mimetype": "text/x-python",
      "name": "python",
      "nbconvert_exporter": "python",
      "pygments_lexer": "ipython3",
      "version": "3.9.6"
    }
  },
  "nbformat": 4,
  "nbformat_minor": 0
}
